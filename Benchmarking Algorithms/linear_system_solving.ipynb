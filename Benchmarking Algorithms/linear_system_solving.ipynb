{
 "cells": [
  {
   "cell_type": "markdown",
   "metadata": {},
   "source": [
    "# ASSIGNMENT 1 NUMERICAL OPTIMIZATION"
   ]
  },
  {
   "cell_type": "markdown",
   "metadata": {
    "collapsed": true
   },
   "source": [
    "In this assignment we will use a direct method and an iterative to solve the system Ax=b. \n",
    "The matrix A will be constructed for n=32, n=64, n=128 and the results will be examined separatelly for each of these cases. "
   ]
  },
  {
   "cell_type": "code",
   "execution_count": 2,
   "metadata": {
    "collapsed": true
   },
   "outputs": [],
   "source": [
    "import numpy as np\n",
    "from scipy import linalg\n",
    "import time\n",
    "from scipy.sparse.linalg import spsolve\n",
    "from scipy.linalg import cholesky_banded, cho_solve_banded\n",
    "from scipy import sparse as sp\n",
    "import sys\n",
    "import pandas as pd\n",
    "import matplotlib.pyplot as plt \n",
    "import pickle\n",
    "import time\n",
    "\n",
    "#function used to construct B matrix\n",
    "def symmetrize(a):\n",
    "    return a + a.T - np.diag(a.diagonal())\n",
    "\n",
    "\n",
    "def construct_matrixB(n,value):   #values matrix is a list of the values to fill from the diagonal and up.\n",
    "    B=np.zeros([n,n]) #initialize nxn size matrix with zeros\n",
    "    #creating upper part of B matrix \n",
    "    #in this loop I fill the values per row starting from diagonal\n",
    "    for i in range(n):\n",
    "        ind_values=0 #used to loop over values matrix\n",
    "        for j in range(i,n):\n",
    "            if ind_values<len(value):#I insert only in the three first cells(starting from diagonal).The rest stays zero.\n",
    "                B[i,j]=value[ind_values]\n",
    "                ind_values+=1\n",
    "\n",
    "    B=symmetrize(B)\n",
    "    return B\n",
    "\n",
    "def construct_matrixA(B): #using kroneker product\n",
    "    A = np.kron(B,np.eye(B.shape[0]))\n",
    "    temp = np.kron(np.eye(B.shape[0]),B)\n",
    "    A = A + temp\n",
    "    return A\n",
    "\n",
    "def b_matrix(n):\n",
    "    b = np.ones([n**2]) #creating n^2 matrix with all ones\n",
    "    return b\n",
    "\n",
    "#banded matrix is used as input to cholesky_banded:\n",
    "#the thinking behind this consruction is that we start from the last column going back and when we find a value<>0 \n",
    "#we fill the banded matrix until the diagonal\n",
    "def constructing_banded_matrix(A):\n",
    "    kmax=0\n",
    "    #in this loop I find the number of the non-zero diagonals\n",
    "    for col in range(A.shape[0]-1,0,-1):\n",
    "        if A[0,col]!=0:\n",
    "            k=col\n",
    "            if kmax<k:\n",
    "                kmax=k\n",
    "\n",
    "    banded = np.zeros((kmax+1,A.shape[0]))\n",
    "    #Constructing banded_matrix\n",
    "    for i in range(0,banded.shape[0]):\n",
    "        for j in range(kmax,A.shape[0],1):\n",
    "            banded[i,j] = A[j-kmax,j]\n",
    "        kmax = kmax-1\n",
    "    return banded\n",
    "\n"
   ]
  },
  {
   "cell_type": "markdown",
   "metadata": {},
   "source": [
    "# NOTES"
   ]
  },
  {
   "cell_type": "markdown",
   "metadata": {},
   "source": [
    "To implement the direct methods I construct a banded matrix manually and a compressed matrix using scipy library.\n",
    "In order to check the efficiency of the solving methods I print the time to consruct the matrices separately from the solving time. It is also possible to construct these matrices without constructing full A.\n",
    "Note that the final decision of the optimal solving method is based only on the time to solve the system NOT the time to construct the matrices."
   ]
  },
  {
   "cell_type": "markdown",
   "metadata": {},
   "source": [
    "# DIRECT METHODS"
   ]
  },
  {
   "cell_type": "markdown",
   "metadata": {},
   "source": [
    "# #Solving Ax=b when N=32"
   ]
  },
  {
   "cell_type": "markdown",
   "metadata": {},
   "source": [
    "For N=32 two direct methods will be demostrated that had the best performance of the ones I tested.\n",
    "LU decomposition for sparse matrix: It takes as input a Compressed Sparse Row matrix of size 56 bytes as sys.getsizeof demostrates below.\n",
    "Cholesky decomposition for banded matrices: It takes as input a banded matrix of  size 532592 bytes.\n",
    "For n=32, LU for sparse matrix is optimal for both time and memory consuption."
   ]
  },
  {
   "cell_type": "code",
   "execution_count": 3,
   "metadata": {},
   "outputs": [
    {
     "name": "stdout",
     "output_type": "stream",
     "text": [
      "Time to construct banded matrix 0.03815913200378418\n",
      "\n",
      "Time to construct compressed matrix:  0.01907491683959961\n"
     ]
    },
    {
     "data": {
      "text/html": [
       "<div>\n",
       "<style>\n",
       "    .dataframe thead tr:only-child th {\n",
       "        text-align: right;\n",
       "    }\n",
       "\n",
       "    .dataframe thead th {\n",
       "        text-align: left;\n",
       "    }\n",
       "\n",
       "    .dataframe tbody tr th {\n",
       "        vertical-align: top;\n",
       "    }\n",
       "</style>\n",
       "<table border=\"1\" class=\"dataframe\">\n",
       "  <thead>\n",
       "    <tr style=\"text-align: right;\">\n",
       "      <th></th>\n",
       "      <th>METHOD</th>\n",
       "      <th>AVERAGE_TIME</th>\n",
       "      <th>STANDARD_DEVIATION</th>\n",
       "      <th>ACCURACY</th>\n",
       "    </tr>\n",
       "  </thead>\n",
       "  <tbody>\n",
       "    <tr>\n",
       "      <th>0</th>\n",
       "      <td>CHOLESKY BANDED</td>\n",
       "      <td>0.014783799648285</td>\n",
       "      <td>0.004093604733907</td>\n",
       "      <td>0.999999999994848</td>\n",
       "    </tr>\n",
       "    <tr>\n",
       "      <th>1</th>\n",
       "      <td>SPARSE LU</td>\n",
       "      <td>0.010828904310862</td>\n",
       "      <td>0.003289005502277</td>\n",
       "      <td>0.999999999997624</td>\n",
       "    </tr>\n",
       "  </tbody>\n",
       "</table>\n",
       "</div>"
      ],
      "text/plain": [
       "            METHOD      AVERAGE_TIME  STANDARD_DEVIATION          ACCURACY\n",
       "0  CHOLESKY BANDED 0.014783799648285   0.004093604733907 0.999999999994848\n",
       "1        SPARSE LU 0.010828904310862   0.003289005502277 0.999999999997624"
      ]
     },
     "metadata": {},
     "output_type": "display_data"
    }
   ],
   "source": [
    "# MATRIX N=32\n",
    "#Constructing Matrix\n",
    "value=[6,-4,1]\n",
    "n=32 \n",
    "B = construct_matrixB(n,value)\n",
    "A=construct_matrixA(B)\n",
    "b = b_matrix(n)\n",
    "\n",
    "#Construct banded matrix to use Cholesky decomposition and count time to construct the matrix\n",
    "bandtimer_start=time.time()  \n",
    "A_banded = constructing_banded_matrix(A)\n",
    "band_timer_end = time.time()\n",
    "\n",
    "print(\"Time to construct banded matrix\",band_timer_end-bandtimer_start)\n",
    "\n",
    "#SOLVING USING CHOLESKY DECOMPOSITION\n",
    "timecholesky = []\n",
    "repeats=60\n",
    "#running cholesky banded 60 time in order to get the average time\n",
    "for i in range(repeats):\n",
    "    start = time.time()\n",
    "    \n",
    "    L_banded = linalg.cholesky_banded(A_banded, lower=False) #cholesky decomposition \n",
    "    x_cho_banded = linalg.cho_solve_banded((L_banded, False), b, check_finite=False ) #solver using decomposition\n",
    "    \n",
    "    end = time.time()\n",
    "    timecholesky.append(end-start)\n",
    "\n",
    "\n",
    "\n",
    "#CHOLESKY_BANDED ACCURACY\n",
    "acc_cholesky = 1 - np.linalg.norm(np.dot(A,x_cho_banded) - b)/np.linalg.norm(b)\n",
    "#constructing dataframe to print results\n",
    "printdf={\"METHOD\":[\"CHOLESKY BANDED\"],'AVERAGE_TIME': [np.mean(timecholesky)],'STANDARD_DEVIATION':[np.std(timecholesky)],\n",
    "         'ACCURACY':[acc_cholesky]}\n",
    "\n",
    "#STORE TIME AND ACCURACY TO CREATE GRAPHS\n",
    "cho_time32=np.mean(timecholesky)\n",
    "cho_acc32 = acc_cholesky\n",
    "\n",
    "#SOLVING USING LU FOR SPARSE MATRIX (superLU package) \n",
    "start = time.time()\n",
    "sA = sp.csc_matrix(A) #Converting A into a Compressed Sparse Row matrix\n",
    "end = time.time()\n",
    "print(\"\\nTime to construct compressed matrix: \",end-start)\n",
    "\n",
    "timeLU=[]\n",
    "for i in range(60):\n",
    "    start = time.time()\n",
    "    L=sp.linalg.splu(sA, permc_spec=None)#Compute the LU decomposition of a sparse, square matrix.\n",
    "    x_splu = L.solve(b)\n",
    "    end = time.time()\n",
    "    timeLU.append(end-start)\n",
    "\n",
    "#LU SPARSE MATRIX \n",
    "acc_splu = 1 - np.linalg.norm(np.dot(A, x_splu) - b)/np.linalg.norm(b)\n",
    "\n",
    "#STORE TIME AND ACCURACY TO CREATE GRAPHS\n",
    "LU_time32 = np.mean(timeLU)\n",
    "LU_acc32 = acc_splu\n",
    "\n",
    "#Filling Datagrame to fill matrix\n",
    "printdf['METHOD'].append('SPARSE LU')\n",
    "printdf['AVERAGE_TIME'].append(np.mean(timeLU))\n",
    "printdf['STANDARD_DEVIATION'].append(np.std(timeLU))\n",
    "printdf['ACCURACY'].append(acc_splu)\n",
    "\n",
    "printdf = pd.DataFrame(printdf)\n",
    "printdf = printdf[['METHOD', 'AVERAGE_TIME', 'STANDARD_DEVIATION',\"ACCURACY\"]]\n",
    "pd.options.display.float_format = '{:,.15f}'.format\n",
    "display(printdf)\n",
    "\n",
    "\n",
    "\n"
   ]
  },
  {
   "cell_type": "code",
   "execution_count": 101,
   "metadata": {},
   "outputs": [
    {
     "name": "stdout",
     "output_type": "stream",
     "text": [
      "MEMORY FOR N=32\n",
      "A: 8388720 \n",
      "A_banded: 532592 \n",
      "b: 8288 \n",
      "compressed_matrix: 56\n",
      "\n",
      "Note: Memory counted in bytes\n"
     ]
    }
   ],
   "source": [
    "#MEMORY CONSUPTION UP UNTIL NOW\n",
    "#Get the size of the matrix in bytes\n",
    "print(\"MEMORY FOR N=32\")\n",
    "print(\"A:\",sys.getsizeof(A),\"\\nA_banded:\",sys.getsizeof(A_banded),\"\\nb:\",sys.getsizeof(b),\"\\ncompressed_matrix:\", sys.getsizeof(sA))\n",
    "print(\"\\nNote: Memory counted in bytes\")"
   ]
  },
  {
   "cell_type": "markdown",
   "metadata": {},
   "source": [
    "Note on sys.getsizeof function:\n",
    "All built-in objects will return correct results, but this does not have to hold true for third-party extensions as it is implementation specific."
   ]
  },
  {
   "cell_type": "markdown",
   "metadata": {},
   "source": [
    "# Solving Ax=b when N=64"
   ]
  },
  {
   "cell_type": "markdown",
   "metadata": {},
   "source": [
    "For N=64 the optimal method on the point of view of time is Cholesky banded and LU for sparse matrix is optimal for memory consuption.\n",
    "\n",
    "CHOLESKY BANDED MEMORY: 4227184 bytes\n",
    "\n",
    "SPARSE LU MATRIX MEMORY: 56 bytes"
   ]
  },
  {
   "cell_type": "code",
   "execution_count": 102,
   "metadata": {},
   "outputs": [
    {
     "name": "stdout",
     "output_type": "stream",
     "text": [
      "Time to construct A for n=64 0.4871349334716797\n",
      "Time to construct banded matrix:  0.22762656211853027\n",
      "\n",
      "Time to construct compressed matrix:  0.16745996475219727\n"
     ]
    },
    {
     "data": {
      "text/html": [
       "<div>\n",
       "<style>\n",
       "    .dataframe thead tr:only-child th {\n",
       "        text-align: right;\n",
       "    }\n",
       "\n",
       "    .dataframe thead th {\n",
       "        text-align: left;\n",
       "    }\n",
       "\n",
       "    .dataframe tbody tr th {\n",
       "        vertical-align: top;\n",
       "    }\n",
       "</style>\n",
       "<table border=\"1\" class=\"dataframe\">\n",
       "  <thead>\n",
       "    <tr style=\"text-align: right;\">\n",
       "      <th></th>\n",
       "      <th>METHOD</th>\n",
       "      <th>AVERAGE_TIME</th>\n",
       "      <th>STANDARD_DEVIATION</th>\n",
       "      <th>ACCURACY</th>\n",
       "    </tr>\n",
       "  </thead>\n",
       "  <tbody>\n",
       "    <tr>\n",
       "      <th>0</th>\n",
       "      <td>CHOLESKY BANDED</td>\n",
       "      <td>0.017310349146525</td>\n",
       "      <td>0.004029225542754</td>\n",
       "      <td>0.999999999963855</td>\n",
       "    </tr>\n",
       "    <tr>\n",
       "      <th>1</th>\n",
       "      <td>SPARSE LU</td>\n",
       "      <td>0.038494499524434</td>\n",
       "      <td>0.007788353210227</td>\n",
       "      <td>0.999999999963277</td>\n",
       "    </tr>\n",
       "  </tbody>\n",
       "</table>\n",
       "</div>"
      ],
      "text/plain": [
       "            METHOD      AVERAGE_TIME  STANDARD_DEVIATION          ACCURACY\n",
       "0  CHOLESKY BANDED 0.017310349146525   0.004029225542754 0.999999999963855\n",
       "1        SPARSE LU 0.038494499524434   0.007788353210227 0.999999999963277"
      ]
     },
     "metadata": {},
     "output_type": "display_data"
    }
   ],
   "source": [
    "# MATRIX N=64\n",
    "#Constructing Matrix\n",
    "value=[6,-4,1]\n",
    "n=64\n",
    "B = construct_matrixB(n,value)\n",
    "start = time.time()\n",
    "A=construct_matrixA(B)\n",
    "end=time.time()\n",
    "print(\"Time to construct A for n=64\",end-start)\n",
    "b = b_matrix(n)\n",
    "\n",
    "#Construct banded matrix to use Cholesky decomposition and count time to construct the matrix\n",
    "bandtimer_start=time.time()  \n",
    "A_banded = constructing_banded_matrix(A)\n",
    "band_timer_end=time.time()\n",
    "\n",
    "print(\"Time to construct banded matrix: \",band_timer_end-bandtimer_start)\n",
    "\n",
    "#SOLVING USING CHOLESKY DECOMPOSITION\n",
    "timecholesky = []\n",
    "repeats=60\n",
    "#running cholesky banded 60 time in order to get the average time\n",
    "for i in range(repeats):\n",
    "    start = time.time()\n",
    "    \n",
    "    L_banded = linalg.cholesky_banded(A_banded, lower=False) #cholesky decomposition \n",
    "    x_cho_banded = linalg.cho_solve_banded((L_banded, False), b, check_finite=False ) #solver using decomposition\n",
    "    \n",
    "    end = time.time()\n",
    "    timecholesky.append(end-start)\n",
    "\n",
    "\n",
    "\n",
    "#CHOLESKY_BANDED ACCURACY\n",
    "acc_cholesky = 1 - np.linalg.norm(np.dot(A,x_cho_banded) - b)/np.linalg.norm(b)\n",
    "#constructing dataframe to print results\n",
    "printdf={\"METHOD\":[\"CHOLESKY BANDED\"],'AVERAGE_TIME': [np.mean(timecholesky)],'STANDARD_DEVIATION':[np.std(timecholesky)],\n",
    "         'ACCURACY':[acc_cholesky]}\n",
    "\n",
    "#STORE TIME AND ACCURACY TO CREATE GRAPHS\n",
    "cho_time64=np.mean(timecholesky)\n",
    "cho_acc64 = acc_cholesky\n",
    "\n",
    "\n",
    "\n",
    "#SOLVING USING LU FOR SPARSE MATRIX (superLU package) \n",
    "start = time.time()\n",
    "sA = sp.csc_matrix(A) #Converting A into a Compressed Sparse Row matrix\n",
    "end = time.time()\n",
    "print(\"\\nTime to construct compressed matrix: \",end-start)\n",
    "\n",
    "timeLU=[]\n",
    "for i in range(60):\n",
    "    start = time.time()\n",
    "    L=sp.linalg.splu(sA, permc_spec=None)#Compute the LU decomposition of a sparse, square matrix.\n",
    "    x_splu = L.solve(b)\n",
    "    end = time.time()\n",
    "    timeLU.append(end-start)\n",
    "\n",
    "#LU SPARSE MATRIX \n",
    "acc_splu = 1 - np.linalg.norm(np.dot(A, x_splu) - b)/np.linalg.norm(b)\n",
    "\n",
    "#STORE TIME AND ACCURACY TO CREATE GRAPHS\n",
    "LU_time64=np.mean(timeLU)\n",
    "LU_acc64 = acc_splu\n",
    "\n",
    "#Filling Datagrame to fill matrix\n",
    "printdf['METHOD'].append('SPARSE LU')\n",
    "printdf['AVERAGE_TIME'].append(np.mean(timeLU))\n",
    "printdf['STANDARD_DEVIATION'].append(np.std(timeLU))\n",
    "printdf['ACCURACY'].append(acc_splu)\n",
    "\n",
    "printdf = pd.DataFrame(printdf)\n",
    "printdf = printdf[['METHOD', 'AVERAGE_TIME', 'STANDARD_DEVIATION',\"ACCURACY\"]]\n",
    "pd.options.display.float_format = '{:,.15f}'.format\n",
    "display(printdf)\n",
    "\n"
   ]
  },
  {
   "cell_type": "code",
   "execution_count": 103,
   "metadata": {},
   "outputs": [
    {
     "name": "stdout",
     "output_type": "stream",
     "text": [
      "MEMORY FOR N=64\n",
      "A: 134217840 \n",
      "A_banded: 4227184 \n",
      "b: 32864 \n",
      "compressed_matrix: 56\n",
      "\n",
      "Note: Memory counted in bytes\n"
     ]
    }
   ],
   "source": [
    "#MEMORY CONSUPTION UP UNTL NOW\n",
    "#Get the size of the matrix in bytes\n",
    "print(\"MEMORY FOR N=64\")\n",
    "print(\"A:\",sys.getsizeof(A),\"\\nA_banded:\",sys.getsizeof(A_banded),\"\\nb:\",sys.getsizeof(b),\"\\ncompressed_matrix:\", sys.getsizeof(sA))\n",
    "print(\"\\nNote: Memory counted in bytes\")"
   ]
  },
  {
   "cell_type": "markdown",
   "metadata": {},
   "source": [
    "# # Solving Ax=b when N=128"
   ]
  },
  {
   "cell_type": "markdown",
   "metadata": {},
   "source": [
    "For N=128 the optimal method on the point of view of time is Cholesky banded and LU for sparse matrix is optimal for memory consuption.\n",
    "CHOLESKY BANDED MEMORY: 33685616 bytes\n",
    "\n",
    "SPARSE LU MATRIX MEMORY: 56 bytes"
   ]
  },
  {
   "cell_type": "code",
   "execution_count": 104,
   "metadata": {},
   "outputs": [
    {
     "name": "stdout",
     "output_type": "stream",
     "text": [
      "Time to construct A for n=128:  14.050747156143188\n",
      "Time to construct banded matrix 1.7068517208099365\n",
      "\n",
      "Time to construct compressed matrix:  2.075538158416748\n"
     ]
    },
    {
     "data": {
      "text/html": [
       "<div>\n",
       "<style>\n",
       "    .dataframe thead tr:only-child th {\n",
       "        text-align: right;\n",
       "    }\n",
       "\n",
       "    .dataframe thead th {\n",
       "        text-align: left;\n",
       "    }\n",
       "\n",
       "    .dataframe tbody tr th {\n",
       "        vertical-align: top;\n",
       "    }\n",
       "</style>\n",
       "<table border=\"1\" class=\"dataframe\">\n",
       "  <thead>\n",
       "    <tr style=\"text-align: right;\">\n",
       "      <th></th>\n",
       "      <th>METHOD</th>\n",
       "      <th>AVERAGE_TIME</th>\n",
       "      <th>STANDARD_DEVIATION</th>\n",
       "      <th>ACCURACY</th>\n",
       "    </tr>\n",
       "  </thead>\n",
       "  <tbody>\n",
       "    <tr>\n",
       "      <th>0</th>\n",
       "      <td>CHOLESKY BANDED</td>\n",
       "      <td>0.125962257385254</td>\n",
       "      <td>0.008644872240083</td>\n",
       "      <td>0.999999999305139</td>\n",
       "    </tr>\n",
       "    <tr>\n",
       "      <th>1</th>\n",
       "      <td>SPARSE LU</td>\n",
       "      <td>0.446368757883708</td>\n",
       "      <td>0.226871078332216</td>\n",
       "      <td>0.999999999474132</td>\n",
       "    </tr>\n",
       "  </tbody>\n",
       "</table>\n",
       "</div>"
      ],
      "text/plain": [
       "            METHOD      AVERAGE_TIME  STANDARD_DEVIATION          ACCURACY\n",
       "0  CHOLESKY BANDED 0.125962257385254   0.008644872240083 0.999999999305139\n",
       "1        SPARSE LU 0.446368757883708   0.226871078332216 0.999999999474132"
      ]
     },
     "metadata": {},
     "output_type": "display_data"
    }
   ],
   "source": [
    "# MATRIX N=128\n",
    "#Constructing Matrix\n",
    "value=[6,-4,1]\n",
    "n=128\n",
    "B = construct_matrixB(n,value)\n",
    "start = time.time()\n",
    "A=construct_matrixA(B)\n",
    "end=time.time()\n",
    "print(\"Time to construct A for n=128: \",end-start)\n",
    "b = b_matrix(n)\n",
    "\n",
    "#Construct banded matrix to use Cholesky decomposition and count time to construct the matrix\n",
    "bandtimer_start=time.time()  \n",
    "A_banded = constructing_banded_matrix(A)\n",
    "band_timer_end=time.time()\n",
    "\n",
    "print(\"Time to construct banded matrix\",band_timer_end-bandtimer_start)\n",
    "\n",
    "#SOLVING USING CHOLESKY DECOMPOSITION\n",
    "timecholesky = []\n",
    "repeats=35\n",
    "#running cholesky banded 60 time in order to get the average time\n",
    "for i in range(repeats):\n",
    "    start = time.time()\n",
    "    \n",
    "    L_banded = linalg.cholesky_banded(A_banded, lower=False) #cholesky decomposition \n",
    "    x_cho_banded = linalg.cho_solve_banded((L_banded, False), b, check_finite=False ) #solver using decomposition\n",
    "    \n",
    "    end = time.time()\n",
    "    timecholesky.append(end-start)\n",
    "\n",
    "\n",
    "\n",
    "#CHOLESKY_BANDED ACCURACY\n",
    "acc_cholesky = 1 - np.linalg.norm(np.dot(A,x_cho_banded) - b)/np.linalg.norm(b)\n",
    "\n",
    "\n",
    "#constructing dataframe to print results\n",
    "printdf={\"METHOD\":[\"CHOLESKY BANDED\"],'AVERAGE_TIME': [np.mean(timecholesky)],'STANDARD_DEVIATION':[np.std(timecholesky)],\n",
    "         'ACCURACY':[acc_cholesky]}\n",
    "\n",
    "#STORE TIME AND ACCURACY TO CREATE GRAPHS\n",
    "cho_time128=np.mean(timecholesky)\n",
    "cho_acc128 = acc_cholesky\n",
    "\n",
    "\n",
    "\n",
    "#SOLVING USING LU FOR SPARSE MATRIX (superLU package) \n",
    "start = time.time()\n",
    "sA = sp.csc_matrix(A) #Converting A into a Compressed Sparse Row matrix\n",
    "end = time.time()\n",
    "print(\"\\nTime to construct compressed matrix: \",end-start)\n",
    "\n",
    "timeLU=[]\n",
    "for i in range(60):\n",
    "    start = time.time()\n",
    "    L=sp.linalg.splu(sA, permc_spec=None)#Compute the LU decomposition of a sparse, square matrix.\n",
    "    x_splu = L.solve(b)\n",
    "    end = time.time()\n",
    "    timeLU.append(end-start)\n",
    "\n",
    "#LU SPARSE MATRIX \n",
    "acc_splu = 1 - np.linalg.norm(np.dot(A, x_splu) - b)/np.linalg.norm(b)\n",
    "\n",
    "#STORE TIME AND ACCURACY TO CREATE GRAPHS\n",
    "LU_time128=np.mean(timeLU)\n",
    "LU_acc128= acc_splu\n",
    "\n",
    "#Filling Datagrame to fill matrix\n",
    "printdf['METHOD'].append('SPARSE LU')\n",
    "printdf['AVERAGE_TIME'].append(np.mean(timeLU))\n",
    "printdf['STANDARD_DEVIATION'].append(np.std(timeLU))\n",
    "printdf['ACCURACY'].append(acc_splu)\n",
    "\n",
    "printdf = pd.DataFrame(printdf)\n",
    "printdf = printdf[['METHOD', 'AVERAGE_TIME', 'STANDARD_DEVIATION',\"ACCURACY\"]]\n",
    "pd.options.display.float_format = '{:,.15f}'.format\n",
    "display(printdf)\n",
    "\n",
    "\n"
   ]
  },
  {
   "cell_type": "code",
   "execution_count": 105,
   "metadata": {},
   "outputs": [
    {
     "name": "stdout",
     "output_type": "stream",
     "text": [
      "MEMORY FOR N=128\n",
      "A: 2147483760 \n",
      "A_banded: 33685616 \n",
      "b: 131168 \n",
      "compressed_matrix: 56\n",
      "\n",
      "Note: Memory counted in bytes\n"
     ]
    }
   ],
   "source": [
    "#MEMORY CONSUPTION FOR N=128\n",
    "#Get the size of the matrix in bytes\n",
    "print(\"MEMORY FOR N=128\")\n",
    "print(\"A:\",sys.getsizeof(A),\"\\nA_banded:\",sys.getsizeof(A_banded),\"\\nb:\",sys.getsizeof(b),\"\\ncompressed_matrix:\", sys.getsizeof(sA))\n",
    "print(\"\\nNote: Memory counted in bytes\")"
   ]
  },
  {
   "cell_type": "markdown",
   "metadata": {},
   "source": [
    "# GRAPHS"
   ]
  },
  {
   "cell_type": "code",
   "execution_count": 106,
   "metadata": {},
   "outputs": [
    {
     "data": {
      "image/png": "[encoded data removed]",
      "text/plain": [
       "<matplotlib.figure.Figure at 0x12eaca9f3c8>"
      ]
     },
     "metadata": {},
     "output_type": "display_data"
    },
    {
     "data": {
      "image/png": "[encoded data removed]",
      "text/plain": [
       "<matplotlib.figure.Figure at 0x12eac98a198>"
      ]
     },
     "metadata": {},
     "output_type": "display_data"
    },
    {
     "data": {
      "image/png": "[encoded data removed]",
      "text/plain": [
       "<matplotlib.figure.Figure at 0x12eab13cf98>"
      ]
     },
     "metadata": {},
     "output_type": "display_data"
    },
    {
     "data": {
      "image/png": "[encoded data removed]",
      "text/plain": [
       "<matplotlib.figure.Figure at 0x12e9ceb0518>"
      ]
     },
     "metadata": {},
     "output_type": "display_data"
    }
   ],
   "source": [
    "\n",
    "x_axis=[32,64,128]\n",
    "\n",
    "#CHOLESKY BANDED\n",
    "time_cho=[cho_time32,cho_time64,cho_time128]\n",
    "accuracy_cho=[cho_acc32,cho_acc64,cho_acc128]\n",
    "plt.plot(x_axis,time_cho)\n",
    "plt.xlabel(\"Matrix Dimensions\")\n",
    "plt.ylabel(\"Time\")\n",
    "plt.title(\"CHOLESKY BANDED TIME\")\n",
    "plt.show()\n",
    "\n",
    "plt.plot(x_axis,accuracy_cho)\n",
    "plt.xlabel(\"Matrix Dimensions\")\n",
    "plt.ylabel(\"Accuracy\")\n",
    "plt.title(\"CHOLESKY ACCURACY\")\n",
    "plt.show()\n",
    "\n",
    "#SPARSE LU\n",
    "time_LU = [LU_time32,LU_time64,LU_time128]\n",
    "accuracy_LU = [LU_acc32, LU_acc64, LU_acc128]\n",
    "\n",
    "plt.plot(x_axis,time_LU)\n",
    "plt.xlabel(\"Matrix Dimensions\")\n",
    "plt.ylabel(\"Time\")\n",
    "plt.title(\"SPARSE LU TIME\")\n",
    "plt.show()\n",
    "\n",
    "plt.plot(x_axis,accuracy_LU)\n",
    "plt.xlabel(\"Matrix Dimensions\")\n",
    "plt.ylabel(\"Accuracy\")\n",
    "plt.title(\"SPARSE LU ACCURACY\")\n",
    "plt.show()\n",
    "\n"
   ]
  },
  {
   "cell_type": "markdown",
   "metadata": {},
   "source": [
    "COMMENTS ON GRAPHS: \n",
    "We observe that as dimensions increase the accuracy decreases and time increases."
   ]
  },
  {
   "cell_type": "markdown",
   "metadata": {},
   "source": [
    "# SUCCESSIVE OVER RELAXATION"
   ]
  },
  {
   "cell_type": "markdown",
   "metadata": {},
   "source": [
    "Below you will find two SOR implementations. \n",
    "\n",
    "The first is an implementation based on the algorithm dercribed in the link( https://en.wikipedia.org/wiki/Successive_over-relaxation in the formulation section ). It is faster than the second implementation in terms of time. I haven't used (1-omega) of the definition as it delays the convergence.\n",
    "\n",
    "The second implementation is based on the pseudocode on wikipedia and an implementation on github on this link(https://github.com/parkag/SOR/) that uses compressed matrix storage(56 bytes occupied) for A instead of full A.\n",
    "This implementation is optimal in terms of memory.\n",
    "\n"
   ]
  },
  {
   "cell_type": "code",
   "execution_count": 115,
   "metadata": {
    "collapsed": true
   },
   "outputs": [],
   "source": [
    "def SOR(A,b,omega,maxiter=1000000):\n",
    "    x = np.ones(len(b))\n",
    "    error=1\n",
    "    iteration=1\n",
    "    diagonal = np.diagonal(A) #storing diagonals of A \n",
    "    while error > 10**(-8):\n",
    "        x_old = x.copy() #initializing x of the iteration that just ended to use both in the calculation of x[i] and error\n",
    "        for i in range(len(x)):\n",
    "            #constructing variables before after for each row\n",
    "            after = np.dot(A[i,:i],x[:i])\n",
    "            before = np.dot(A[i,i:len(x)], x_old[i:len(x)])\n",
    "            #calculating x row by row\n",
    "            x[i] = x[i] + ((omega / diagonal[i])*(b[i] -  after -before))\n",
    "        \n",
    "        error = np.linalg.norm(x-x_old)/np.linalg.norm(x)#relative error\n",
    "        \n",
    "        iteration+=1\n",
    "    return x,iteration\n",
    "    "
   ]
  },
  {
   "cell_type": "code",
   "execution_count": 88,
   "metadata": {
    "collapsed": true
   },
   "outputs": [],
   "source": [
    "#SOLUTION BY SUCCESSIVE OVER RELAXATION METHOD\n",
    "#This method uses the sA sparse matrix that uses very little memory.\n",
    "\n",
    "def SOR_compressed(A, b,omega, acc, maxiter=1000000):\n",
    "    x = np.ones(b.shape[0])\n",
    "    rows = b.shape[0]\n",
    "    D = sA.diagonal()\n",
    "    iteration = 0\n",
    "    xold = np.zeros(b.shape[0])\n",
    "    error = 1\n",
    "    while iteration < maxiter and error > acc:\n",
    "        s = np.zeros(b.shape[0]) #initializing s \n",
    "        for row in range(rows):\n",
    "            cols = A.indices[A.indptr[row]:A.indptr[row+1]] #taking the indexes of the columns of non zero elements of current row\n",
    "            for j, col in enumerate(cols):\n",
    "                if col!=row:\n",
    "                    s[row] += A.data[A.indptr[row]:A.indptr[row+1]][j]*x[col]#indptr gives the index of the first non zero element\n",
    "\n",
    "            if D[row]!=0.0:\n",
    "                x[row] += omega*( (b[row]-s[row])/D[row] - x[row])\n",
    "        iteration +=1\n",
    "        error = np.linalg.norm(x-xold)/np.linalg.norm(x)\n",
    "        xold = list(x)\n",
    "    return x, iteration\n",
    "    "
   ]
  },
  {
   "cell_type": "markdown",
   "metadata": {},
   "source": [
    "# RUNNING SOR FOR N=32"
   ]
  },
  {
   "cell_type": "code",
   "execution_count": 89,
   "metadata": {
    "collapsed": true
   },
   "outputs": [],
   "source": [
    "#Construct matrices\n",
    "value=[6,-4,1]\n",
    "n=32 \n",
    "B = construct_matrixB(n,value)\n",
    "A=construct_matrixA(B)\n",
    "b = b_matrix(n)\n",
    "\n",
    "#construct compressed matrix A\n",
    "sA = sp.csr_matrix(A) #Converting A into a Compressed Sparse Row matrix"
   ]
  },
  {
   "cell_type": "markdown",
   "metadata": {},
   "source": [
    "##### The following code is too time consuming if executed. Please check the results on the graphs without executing  it."
   ]
  },
  {
   "cell_type": "code",
   "execution_count": 91,
   "metadata": {
    "collapsed": true
   },
   "outputs": [],
   "source": [
    "#TUNING OMEGA FOR SOR \n",
    "omegas = np.arange(1, 1.96, 0.05) #creates list with omega [1, 0.95] \n",
    "SORtime = [] #list to store time for all omegas\n",
    "iterations = [] #list to store iterations for all omegas \n",
    "acc = 10**(-8)\n",
    "acc_sor = [] #list to store accuracy to check that convergence is reached\n",
    "for omega in omegas:\n",
    "    start = time.time()\n",
    "    res, it = SOR(A,b,omega,acc)\n",
    "    end = time.time()\n",
    "    SORtime.append(end-start)\n",
    "    iterations.append(it)\n",
    "    acc_sor.append(1 - np.linalg.norm(np.dot(A, res) - b)/np.linalg.norm(b))\n",
    "    \n",
    "with open('iterations.pkl', 'wb') as f:\n",
    "        pickle.dump(iterations, f)\n",
    "\n",
    "with open('sor_time.pkl', 'wb') as f:\n",
    "    pickle.dump(SORtime, f)\n",
    "\n",
    "with open('accuracy_sor.pkl', 'wb') as f:\n",
    "    pickle.dump(acc_sor, f)"
   ]
  },
  {
   "cell_type": "markdown",
   "metadata": {},
   "source": [
    "##### The following code is too time consuming if executed. Please check the results on the graphs without executing  it."
   ]
  },
  {
   "cell_type": "code",
   "execution_count": 95,
   "metadata": {
    "collapsed": true
   },
   "outputs": [],
   "source": [
    "#TUNING OMEGA FOR SOR COMPRESSED\n",
    "omegas = np.arange(1, 1.96, 0.05)\n",
    "csr_time = []\n",
    "iterations_csr = []\n",
    "acc = 10**(-8)\n",
    "acc_csr = []\n",
    "for omega in omegas:\n",
    "    start = time.time()\n",
    "    res, it = SOR_compressed(sA,b,omega,acc)\n",
    "    end = time.time()\n",
    "    csr_time.append(end-start)\n",
    "    iterations_csr.append(it)\n",
    "    acc_csr.append(1 - np.linalg.norm(np.dot(A, res) - b)/np.linalg.norm(b))"
   ]
  },
  {
   "cell_type": "markdown",
   "metadata": {},
   "source": [
    "# GRAPHS"
   ]
  },
  {
   "cell_type": "code",
   "execution_count": 7,
   "metadata": {},
   "outputs": [
    {
     "data": {
      "image/png": "[encoded data removed]",
      "text/plain": [
       "<matplotlib.figure.Figure at 0x237c4efcf60>"
      ]
     },
     "metadata": {},
     "output_type": "display_data"
    },
    {
     "data": {
      "image/png": "[encoded data removed]",
      "text/plain": [
       "<matplotlib.figure.Figure at 0x237c4efc4e0>"
      ]
     },
     "metadata": {},
     "output_type": "display_data"
    },
    {
     "data": {
      "image/png": "[encoded data removed]",
      "text/plain": [
       "<matplotlib.figure.Figure at 0x237d398f940>"
      ]
     },
     "metadata": {},
     "output_type": "display_data"
    }
   ],
   "source": [
    "#SOR GRAPHS\n",
    "plt.plot(omegas, iterations)\n",
    "plt.xlabel(\"Omega values\")\n",
    "plt.ylabel(\"Iterations\")\n",
    "plt.title(\"SOR ITERATIONS-OMEGA\")\n",
    "plt.ylim(3000, 80000)\n",
    "plt.xlim(1, 2)\n",
    "\n",
    "plt.show()\n",
    "\n",
    "plt.plot(omegas, SORtime)\n",
    "plt.xlabel(\"Omega values\")\n",
    "plt.ylabel(\"Time(secs)\")\n",
    "plt.title(\"SOR TIME-OMEGA\")\n",
    "plt.show()\n",
    "\n",
    "plt.plot(omegas, accuracy)\n",
    "plt.xlabel(\"Omega values\")\n",
    "plt.ylabel(\"Accuracy\")\n",
    "plt.title(\"SOR ACCURACY-OMEGA\")\n",
    "plt.show()\n"
   ]
  },
  {
   "cell_type": "code",
   "execution_count": 9,
   "metadata": {},
   "outputs": [
    {
     "data": {
      "image/png": "[encoded data removed]",
      "text/plain": [
       "<matplotlib.figure.Figure at 0x237d395bcf8>"
      ]
     },
     "metadata": {},
     "output_type": "display_data"
    },
    {
     "data": {
      "image/png": "[encoded data removed]",
      "text/plain": [
       "<matplotlib.figure.Figure at 0x237d3a27828>"
      ]
     },
     "metadata": {},
     "output_type": "display_data"
    },
    {
     "data": {
      "image/png": "[encoded data removed]",
      "text/plain": [
       "<matplotlib.figure.Figure at 0x237d395b908>"
      ]
     },
     "metadata": {},
     "output_type": "display_data"
    }
   ],
   "source": [
    "#SOR COMPRESSED GRAPHS\n",
    "plt.plot(omegas, iterations_csr)\n",
    "plt.xlabel(\"Omega values\")\n",
    "plt.ylabel(\"Iterations\")\n",
    "plt.title(\"SOR COMPRESSED ITERATIONS-OMEGA\")\n",
    "plt.show()\n",
    "\n",
    "plt.plot(omegas, csr_time)\n",
    "plt.xlabel(\"Omega values\")\n",
    "plt.ylabel(\"Time(secs)\")\n",
    "plt.title(\"SOR COMPRESSED TIME-OMEGA\")\n",
    "plt.show()\n",
    "\n",
    "plt.plot(omegas, acc_csr)\n",
    "plt.xlabel(\"Omega values\")\n",
    "plt.ylabel(\"Accuracy\")\n",
    "plt.title(\"SOR ACCURACY-OMEGA\")\n",
    "plt.show()"
   ]
  },
  {
   "cell_type": "code",
   "execution_count": 109,
   "metadata": {},
   "outputs": [
    {
     "name": "stdout",
     "output_type": "stream",
     "text": [
      "SOR\n",
      "W_optimum for SOR is:  1.9\n",
      "Optimum Iterations:  3409\n",
      "Optimum time:  16.36152958869934  seconds\n",
      "\n",
      "SOR USING COMPRESSED MATRIX\n",
      "W_optimum for SOR is:  1.9\n",
      "Optimum Iterations:  3408\n",
      "Optimum time:  48.28074336051941  seconds\n"
     ]
    }
   ],
   "source": [
    "#So for the first SOR omega optimum is 1.95\n",
    "omega_opt = 1.9\n",
    "\n",
    "print(\"SOR\")\n",
    "print(\"W_optimum for SOR is: \", omega_opt)\n",
    "print(\"Optimum Iterations: \", iterations[-2])\n",
    "print(\"Optimum time: \",SORtime[-2],\" seconds\")\n",
    "\n",
    "#So for the SOR COMPRESSED omega optimum is 1.95\n",
    "print(\"\\nSOR USING COMPRESSED MATRIX\")\n",
    "print(\"W_optimum for SOR is: \",omega_opt)\n",
    "print(\"Optimum Iterations: \", iterations_csr[-2])\n",
    "print(\"Optimum time: \",csr_time[-2] ,\" seconds\")\n",
    "\n",
    "\n"
   ]
  },
  {
   "cell_type": "markdown",
   "metadata": {},
   "source": [
    "##### Calculating wopt using spectral ratio"
   ]
  },
  {
   "cell_type": "markdown",
   "metadata": {},
   "source": [
    "After calculating spectral radius of transintion matrix of Jacobi we observe that spectral_radius(Tj) > 1 and so it is impossible to calculate omega optimum. "
   ]
  },
  {
   "cell_type": "code",
   "execution_count": 4,
   "metadata": {},
   "outputs": [
    {
     "name": "stdout",
     "output_type": "stream",
     "text": [
      "Spectral_radius: 1.65481644655\n"
     ]
    }
   ],
   "source": [
    "from numpy import linalg as LA\n",
    "\n",
    "#Finding L, D, U \n",
    "L = np.tril(A, k=-1)\n",
    "D = np.diag(np.diag(A))\n",
    "U = np.triu(A, k=1)\n",
    "\n",
    "Tj =np.dot( np.linalg.inv(D),((1)*L+(1)*U)) #calculating jacobi iterative matrix \n",
    "eigenvalues = LA.eigvalsh(Tj) # finding eigenvalues of symmetric positive definite matrix\n",
    "eigenvalues = [abs(number) for number in eigenvalues] # taking the absolute value of all eigenvalues\n",
    "spectral_radius = np.max(eigenvalues)  # finding spectral radius\n",
    "\n",
    "if (1-spectral_radius**2) > 0:\n",
    "    wopt = 2/(1+np.sqrt(1-spectral_radius**2))\n",
    "else:\n",
    "    print(\"Spectral_radius:\",spectral_radius)\n"
   ]
  },
  {
   "cell_type": "markdown",
   "metadata": {},
   "source": [
    "###### From the numbers of iterations point of view,  which is better: To over estimate or to under estimate ωopt?"
   ]
  },
  {
   "cell_type": "markdown",
   "metadata": {},
   "source": [
    "Observing the Iteration-Οmega graph we conclude that it is better to slightly overestimate omega in SOR than to underestimate it. This is also a rule of thumb in bibliography."
   ]
  }
 ],
 "metadata": {
  "kernelspec": {
   "display_name": "Python 3",
   "language": "python",
   "name": "python3"
  },
  "language_info": {
   "codemirror_mode": {
    "name": "ipython",
    "version": 3
   },
   "file_extension": ".py",
   "mimetype": "text/x-python",
   "name": "python",
   "nbconvert_exporter": "python",
   "pygments_lexer": "ipython3",
   "version": "3.6.3"
  }
 },
 "nbformat": 4,
 "nbformat_minor": 2
}
